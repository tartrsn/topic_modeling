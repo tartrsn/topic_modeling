{
 "cells": [
  {
   "cell_type": "code",
   "execution_count": 1,
   "id": "095dfa8e",
   "metadata": {},
   "outputs": [],
   "source": [
    "import pandas as pd\n",
    "\n",
    "import re\n",
    "import preprocessor as p"
   ]
  },
  {
   "cell_type": "code",
   "execution_count": 2,
   "id": "cc7b75d2",
   "metadata": {},
   "outputs": [],
   "source": [
    "df = pd.read_csv('sample_twitter.csv')"
   ]
  },
  {
   "cell_type": "code",
   "execution_count": 3,
   "id": "f745e838",
   "metadata": {},
   "outputs": [
    {
     "data": {
      "text/html": [
       "<div>\n",
       "<style scoped>\n",
       "    .dataframe tbody tr th:only-of-type {\n",
       "        vertical-align: middle;\n",
       "    }\n",
       "\n",
       "    .dataframe tbody tr th {\n",
       "        vertical-align: top;\n",
       "    }\n",
       "\n",
       "    .dataframe thead th {\n",
       "        text-align: right;\n",
       "    }\n",
       "</style>\n",
       "<table border=\"1\" class=\"dataframe\">\n",
       "  <thead>\n",
       "    <tr style=\"text-align: right;\">\n",
       "      <th></th>\n",
       "      <th>tweet_id</th>\n",
       "      <th>author_id</th>\n",
       "      <th>inbound</th>\n",
       "      <th>created_at</th>\n",
       "      <th>text</th>\n",
       "      <th>response_tweet_id</th>\n",
       "      <th>in_response_to_tweet_id</th>\n",
       "    </tr>\n",
       "  </thead>\n",
       "  <tbody>\n",
       "    <tr>\n",
       "      <th>0</th>\n",
       "      <td>119237</td>\n",
       "      <td>105834</td>\n",
       "      <td>True</td>\n",
       "      <td>Wed Oct 11 06:55:44 +0000 2017</td>\n",
       "      <td>@AppleSupport causing the reply to be disregar...</td>\n",
       "      <td>119236</td>\n",
       "      <td>NaN</td>\n",
       "    </tr>\n",
       "    <tr>\n",
       "      <th>1</th>\n",
       "      <td>119238</td>\n",
       "      <td>ChaseSupport</td>\n",
       "      <td>False</td>\n",
       "      <td>Wed Oct 11 13:25:49 +0000 2017</td>\n",
       "      <td>@105835 Your business means a lot to us. Pleas...</td>\n",
       "      <td>NaN</td>\n",
       "      <td>119239.0</td>\n",
       "    </tr>\n",
       "    <tr>\n",
       "      <th>2</th>\n",
       "      <td>119239</td>\n",
       "      <td>105835</td>\n",
       "      <td>True</td>\n",
       "      <td>Wed Oct 11 13:00:09 +0000 2017</td>\n",
       "      <td>@76328 I really hope you all change but I'm su...</td>\n",
       "      <td>119238</td>\n",
       "      <td>NaN</td>\n",
       "    </tr>\n",
       "    <tr>\n",
       "      <th>3</th>\n",
       "      <td>119240</td>\n",
       "      <td>VirginTrains</td>\n",
       "      <td>False</td>\n",
       "      <td>Tue Oct 10 15:16:08 +0000 2017</td>\n",
       "      <td>@105836 LiveChat is online at the moment - htt...</td>\n",
       "      <td>119241</td>\n",
       "      <td>119242.0</td>\n",
       "    </tr>\n",
       "    <tr>\n",
       "      <th>4</th>\n",
       "      <td>119241</td>\n",
       "      <td>105836</td>\n",
       "      <td>True</td>\n",
       "      <td>Tue Oct 10 15:17:21 +0000 2017</td>\n",
       "      <td>@VirginTrains see attached error message. I've...</td>\n",
       "      <td>119243</td>\n",
       "      <td>119240.0</td>\n",
       "    </tr>\n",
       "  </tbody>\n",
       "</table>\n",
       "</div>"
      ],
      "text/plain": [
       "   tweet_id     author_id  inbound                      created_at  \\\n",
       "0    119237        105834     True  Wed Oct 11 06:55:44 +0000 2017   \n",
       "1    119238  ChaseSupport    False  Wed Oct 11 13:25:49 +0000 2017   \n",
       "2    119239        105835     True  Wed Oct 11 13:00:09 +0000 2017   \n",
       "3    119240  VirginTrains    False  Tue Oct 10 15:16:08 +0000 2017   \n",
       "4    119241        105836     True  Tue Oct 10 15:17:21 +0000 2017   \n",
       "\n",
       "                                                text response_tweet_id  \\\n",
       "0  @AppleSupport causing the reply to be disregar...            119236   \n",
       "1  @105835 Your business means a lot to us. Pleas...               NaN   \n",
       "2  @76328 I really hope you all change but I'm su...            119238   \n",
       "3  @105836 LiveChat is online at the moment - htt...            119241   \n",
       "4  @VirginTrains see attached error message. I've...            119243   \n",
       "\n",
       "   in_response_to_tweet_id  \n",
       "0                      NaN  \n",
       "1                 119239.0  \n",
       "2                      NaN  \n",
       "3                 119242.0  \n",
       "4                 119240.0  "
      ]
     },
     "execution_count": 3,
     "metadata": {},
     "output_type": "execute_result"
    }
   ],
   "source": [
    "df.head()"
   ]
  },
  {
   "cell_type": "code",
   "execution_count": 4,
   "id": "76e4f72a",
   "metadata": {},
   "outputs": [
    {
     "data": {
      "text/plain": [
       "(93, 7)"
      ]
     },
     "execution_count": 4,
     "metadata": {},
     "output_type": "execute_result"
    }
   ],
   "source": [
    "df.shape"
   ]
  },
  {
   "cell_type": "code",
   "execution_count": 5,
   "id": "6da7ef3a",
   "metadata": {},
   "outputs": [
    {
     "data": {
      "text/plain": [
       "array(['105834', 'ChaseSupport', '105835', 'VirginTrains', '105836',\n",
       "       'AppleSupport', '105837', '105838', '105839', 'SpotifyCares',\n",
       "       '105840', '105841', 'British_Airways', '105842', '105843',\n",
       "       '105844', 'O2', '82476', 'comcastcares', '105845', 'sprintcare',\n",
       "       '105676', '105846', '105847', '105848', '105849', 'SouthwestAir',\n",
       "       '105850', '105851', '105852', 'Ask_Spectrum', '105854', 'Tesco',\n",
       "       '105855', '105856', '105857', 'HPSupport', '105858', 'UPSHelp',\n",
       "       '105859', '105860', '105861'], dtype=object)"
      ]
     },
     "execution_count": 5,
     "metadata": {},
     "output_type": "execute_result"
    }
   ],
   "source": [
    "df.author_id.unique()"
   ]
  },
  {
   "cell_type": "code",
   "execution_count": 6,
   "id": "f9287eab",
   "metadata": {},
   "outputs": [
    {
     "data": {
      "text/plain": [
       "93"
      ]
     },
     "execution_count": 6,
     "metadata": {},
     "output_type": "execute_result"
    }
   ],
   "source": [
    "df.text.unique().size"
   ]
  },
  {
   "cell_type": "code",
   "execution_count": null,
   "id": "49ba592f",
   "metadata": {},
   "outputs": [],
   "source": []
  },
  {
   "cell_type": "code",
   "execution_count": 7,
   "id": "56c49b93",
   "metadata": {},
   "outputs": [],
   "source": [
    "df_content = df[['tweet_id', 'text']]"
   ]
  },
  {
   "cell_type": "code",
   "execution_count": 8,
   "id": "005745da",
   "metadata": {},
   "outputs": [
    {
     "data": {
      "text/html": [
       "<div>\n",
       "<style scoped>\n",
       "    .dataframe tbody tr th:only-of-type {\n",
       "        vertical-align: middle;\n",
       "    }\n",
       "\n",
       "    .dataframe tbody tr th {\n",
       "        vertical-align: top;\n",
       "    }\n",
       "\n",
       "    .dataframe thead th {\n",
       "        text-align: right;\n",
       "    }\n",
       "</style>\n",
       "<table border=\"1\" class=\"dataframe\">\n",
       "  <thead>\n",
       "    <tr style=\"text-align: right;\">\n",
       "      <th></th>\n",
       "      <th>tweet_id</th>\n",
       "      <th>text</th>\n",
       "    </tr>\n",
       "  </thead>\n",
       "  <tbody>\n",
       "    <tr>\n",
       "      <th>0</th>\n",
       "      <td>119237</td>\n",
       "      <td>@AppleSupport causing the reply to be disregar...</td>\n",
       "    </tr>\n",
       "    <tr>\n",
       "      <th>1</th>\n",
       "      <td>119238</td>\n",
       "      <td>@105835 Your business means a lot to us. Pleas...</td>\n",
       "    </tr>\n",
       "    <tr>\n",
       "      <th>2</th>\n",
       "      <td>119239</td>\n",
       "      <td>@76328 I really hope you all change but I'm su...</td>\n",
       "    </tr>\n",
       "    <tr>\n",
       "      <th>3</th>\n",
       "      <td>119240</td>\n",
       "      <td>@105836 LiveChat is online at the moment - htt...</td>\n",
       "    </tr>\n",
       "    <tr>\n",
       "      <th>4</th>\n",
       "      <td>119241</td>\n",
       "      <td>@VirginTrains see attached error message. I've...</td>\n",
       "    </tr>\n",
       "  </tbody>\n",
       "</table>\n",
       "</div>"
      ],
      "text/plain": [
       "   tweet_id                                               text\n",
       "0    119237  @AppleSupport causing the reply to be disregar...\n",
       "1    119238  @105835 Your business means a lot to us. Pleas...\n",
       "2    119239  @76328 I really hope you all change but I'm su...\n",
       "3    119240  @105836 LiveChat is online at the moment - htt...\n",
       "4    119241  @VirginTrains see attached error message. I've..."
      ]
     },
     "execution_count": 8,
     "metadata": {},
     "output_type": "execute_result"
    }
   ],
   "source": [
    "df_content.head()"
   ]
  },
  {
   "cell_type": "code",
   "execution_count": null,
   "id": "a75e49b3",
   "metadata": {},
   "outputs": [],
   "source": []
  },
  {
   "cell_type": "code",
   "execution_count": 9,
   "id": "77258fbe",
   "metadata": {},
   "outputs": [],
   "source": [
    "# clean the dataset\n",
    "def clean_tweets(column):\n",
    "    # punctuations to be replaced\n",
    "    REPLACE_NO_SPACE = re.compile(\"(\\.)|(\\;)|(\\:)|(\\!)|(\\')|(\\?)|(\\,)|(\\\")|(\\|)|(\\()|(\\))|(\\[)|(\\])|(\\%)|(\\$)|(\\>)|(\\<)|(\\{)|(\\})\")\n",
    "    REPLACE_WITH_SPACE = re.compile(\"(<br\\s/><br\\s/?)|(-)|(/)|(:).\")\n",
    "    tempArr = []\n",
    "    for line in column:\n",
    "        tmpL = p.clean(line)\n",
    "        tmpL = REPLACE_NO_SPACE.sub(\"\", tmpL.lower())\n",
    "        tmpL = REPLACE_WITH_SPACE.sub(\" \", tmpL)\n",
    "        tempArr.append(tmpL)\n",
    "    return tempArr"
   ]
  },
  {
   "cell_type": "code",
   "execution_count": 10,
   "id": "ad63274f",
   "metadata": {},
   "outputs": [
    {
     "name": "stderr",
     "output_type": "stream",
     "text": [
      "C:\\Users\\skryp\\AppData\\Local\\Temp\\ipykernel_7372\\2153503314.py:1: SettingWithCopyWarning: \n",
      "A value is trying to be set on a copy of a slice from a DataFrame.\n",
      "Try using .loc[row_indexer,col_indexer] = value instead\n",
      "\n",
      "See the caveats in the documentation: https://pandas.pydata.org/pandas-docs/stable/user_guide/indexing.html#returning-a-view-versus-a-copy\n",
      "  df_content['clean_text'] = clean_tweets(df_content['text'])\n"
     ]
    }
   ],
   "source": [
    "df_content['clean_text'] = clean_tweets(df_content['text'])"
   ]
  },
  {
   "cell_type": "code",
   "execution_count": 11,
   "id": "dc9e40de",
   "metadata": {},
   "outputs": [
    {
     "data": {
      "text/html": [
       "<div>\n",
       "<style scoped>\n",
       "    .dataframe tbody tr th:only-of-type {\n",
       "        vertical-align: middle;\n",
       "    }\n",
       "\n",
       "    .dataframe tbody tr th {\n",
       "        vertical-align: top;\n",
       "    }\n",
       "\n",
       "    .dataframe thead th {\n",
       "        text-align: right;\n",
       "    }\n",
       "</style>\n",
       "<table border=\"1\" class=\"dataframe\">\n",
       "  <thead>\n",
       "    <tr style=\"text-align: right;\">\n",
       "      <th></th>\n",
       "      <th>tweet_id</th>\n",
       "      <th>text</th>\n",
       "      <th>clean_text</th>\n",
       "    </tr>\n",
       "  </thead>\n",
       "  <tbody>\n",
       "    <tr>\n",
       "      <th>0</th>\n",
       "      <td>119237</td>\n",
       "      <td>@AppleSupport causing the reply to be disregar...</td>\n",
       "      <td>causing the reply to be disregarded and the ta...</td>\n",
       "    </tr>\n",
       "    <tr>\n",
       "      <th>1</th>\n",
       "      <td>119238</td>\n",
       "      <td>@105835 Your business means a lot to us. Pleas...</td>\n",
       "      <td>your business means a lot to us please dm your...</td>\n",
       "    </tr>\n",
       "    <tr>\n",
       "      <th>2</th>\n",
       "      <td>119239</td>\n",
       "      <td>@76328 I really hope you all change but I'm su...</td>\n",
       "      <td>i really hope you all change but im sure you w...</td>\n",
       "    </tr>\n",
       "    <tr>\n",
       "      <th>3</th>\n",
       "      <td>119240</td>\n",
       "      <td>@105836 LiveChat is online at the moment - htt...</td>\n",
       "      <td>livechat is online at the moment   or contact ...</td>\n",
       "    </tr>\n",
       "    <tr>\n",
       "      <th>4</th>\n",
       "      <td>119241</td>\n",
       "      <td>@VirginTrains see attached error message. I've...</td>\n",
       "      <td>see attached error message ive tried leaving a...</td>\n",
       "    </tr>\n",
       "    <tr>\n",
       "      <th>5</th>\n",
       "      <td>119243</td>\n",
       "      <td>@105836 Have you tried from another device, Mi...</td>\n",
       "      <td>have you tried from another device miriam ^mm</td>\n",
       "    </tr>\n",
       "    <tr>\n",
       "      <th>6</th>\n",
       "      <td>119244</td>\n",
       "      <td>@VirginTrains yep, I've tried laptop too sever...</td>\n",
       "      <td>yep ive tried laptop too several times over th...</td>\n",
       "    </tr>\n",
       "    <tr>\n",
       "      <th>7</th>\n",
       "      <td>119245</td>\n",
       "      <td>@105836 It's working OK from here, Miriam. Doe...</td>\n",
       "      <td>its working ok from here miriam does this link...</td>\n",
       "    </tr>\n",
       "    <tr>\n",
       "      <th>8</th>\n",
       "      <td>119242</td>\n",
       "      <td>@VirginTrains I still haven't heard &amp;amp; the ...</td>\n",
       "      <td>i still havent heard &amp;amp the number im direct...</td>\n",
       "    </tr>\n",
       "    <tr>\n",
       "      <th>9</th>\n",
       "      <td>119246</td>\n",
       "      <td>@105836 That's what we're here for Miriam 😊  T...</td>\n",
       "      <td>thats what were here for miriam the team shoul...</td>\n",
       "    </tr>\n",
       "    <tr>\n",
       "      <th>10</th>\n",
       "      <td>119248</td>\n",
       "      <td>@105837 We can help. Which version of iOS are ...</td>\n",
       "      <td>we can help which version of ios are you on yo...</td>\n",
       "    </tr>\n",
       "    <tr>\n",
       "      <th>11</th>\n",
       "      <td>119249</td>\n",
       "      <td>@105838 @AppleSupport Me too am suffering , ho...</td>\n",
       "      <td>me too am suffering  hope the can find a solution</td>\n",
       "    </tr>\n",
       "    <tr>\n",
       "      <th>12</th>\n",
       "      <td>119250</td>\n",
       "      <td>@AppleSupport hi #apple, I’ve a concern about ...</td>\n",
       "      <td>hi  ive a concern about the latest ios is too ...</td>\n",
       "    </tr>\n",
       "    <tr>\n",
       "      <th>13</th>\n",
       "      <td>119252</td>\n",
       "      <td>@105839 Thanks for reaching out to us. We are ...</td>\n",
       "      <td>thanks for reaching out to us we are always ha...</td>\n",
       "    </tr>\n",
       "    <tr>\n",
       "      <th>14</th>\n",
       "      <td>119253</td>\n",
       "      <td>I just updated my phone and suddenly everythin...</td>\n",
       "      <td>i just updated my phone and suddenly everythin...</td>\n",
       "    </tr>\n",
       "  </tbody>\n",
       "</table>\n",
       "</div>"
      ],
      "text/plain": [
       "    tweet_id                                               text  \\\n",
       "0     119237  @AppleSupport causing the reply to be disregar...   \n",
       "1     119238  @105835 Your business means a lot to us. Pleas...   \n",
       "2     119239  @76328 I really hope you all change but I'm su...   \n",
       "3     119240  @105836 LiveChat is online at the moment - htt...   \n",
       "4     119241  @VirginTrains see attached error message. I've...   \n",
       "5     119243  @105836 Have you tried from another device, Mi...   \n",
       "6     119244  @VirginTrains yep, I've tried laptop too sever...   \n",
       "7     119245  @105836 It's working OK from here, Miriam. Doe...   \n",
       "8     119242  @VirginTrains I still haven't heard &amp; the ...   \n",
       "9     119246  @105836 That's what we're here for Miriam 😊  T...   \n",
       "10    119248  @105837 We can help. Which version of iOS are ...   \n",
       "11    119249  @105838 @AppleSupport Me too am suffering , ho...   \n",
       "12    119250  @AppleSupport hi #apple, I’ve a concern about ...   \n",
       "13    119252  @105839 Thanks for reaching out to us. We are ...   \n",
       "14    119253  I just updated my phone and suddenly everythin...   \n",
       "\n",
       "                                           clean_text  \n",
       "0   causing the reply to be disregarded and the ta...  \n",
       "1   your business means a lot to us please dm your...  \n",
       "2   i really hope you all change but im sure you w...  \n",
       "3   livechat is online at the moment   or contact ...  \n",
       "4   see attached error message ive tried leaving a...  \n",
       "5       have you tried from another device miriam ^mm  \n",
       "6   yep ive tried laptop too several times over th...  \n",
       "7   its working ok from here miriam does this link...  \n",
       "8   i still havent heard &amp the number im direct...  \n",
       "9   thats what were here for miriam the team shoul...  \n",
       "10  we can help which version of ios are you on yo...  \n",
       "11  me too am suffering  hope the can find a solution  \n",
       "12  hi  ive a concern about the latest ios is too ...  \n",
       "13  thanks for reaching out to us we are always ha...  \n",
       "14  i just updated my phone and suddenly everythin...  "
      ]
     },
     "execution_count": 11,
     "metadata": {},
     "output_type": "execute_result"
    }
   ],
   "source": [
    "df_content.head(15)"
   ]
  },
  {
   "cell_type": "code",
   "execution_count": 12,
   "id": "22273d05",
   "metadata": {},
   "outputs": [],
   "source": [
    "prepared_dataset = df_content[['tweet_id', 'clean_text']]"
   ]
  },
  {
   "cell_type": "code",
   "execution_count": 13,
   "id": "f43c7a35",
   "metadata": {},
   "outputs": [],
   "source": [
    "#prepared_dataset.to_csv('sample_twitter_prepared.csv', index=False)"
   ]
  },
  {
   "cell_type": "code",
   "execution_count": null,
   "id": "5094333b",
   "metadata": {},
   "outputs": [],
   "source": []
  },
  {
   "cell_type": "code",
   "execution_count": null,
   "id": "815792c9",
   "metadata": {},
   "outputs": [],
   "source": []
  }
 ],
 "metadata": {
  "kernelspec": {
   "display_name": "Python 3 (ipykernel)",
   "language": "python",
   "name": "python3"
  },
  "language_info": {
   "codemirror_mode": {
    "name": "ipython",
    "version": 3
   },
   "file_extension": ".py",
   "mimetype": "text/x-python",
   "name": "python",
   "nbconvert_exporter": "python",
   "pygments_lexer": "ipython3",
   "version": "3.10.9"
  }
 },
 "nbformat": 4,
 "nbformat_minor": 5
}
